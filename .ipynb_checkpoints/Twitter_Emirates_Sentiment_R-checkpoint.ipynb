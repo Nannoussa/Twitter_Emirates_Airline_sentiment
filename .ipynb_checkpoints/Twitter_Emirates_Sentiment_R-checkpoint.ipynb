{
 "cells": [
  {
   "cell_type": "code",
   "execution_count": 2,
   "metadata": {
    "collapsed": false
   },
   "outputs": [
    {
     "ename": "CParserError",
     "evalue": "Error tokenizing data. C error: Expected 2 fields in line 89, saw 4\n",
     "output_type": "error",
     "traceback": [
      "\u001b[0;31m---------------------------------------------------------------------------\u001b[0m",
      "\u001b[0;31mCParserError\u001b[0m                              Traceback (most recent call last)",
      "\u001b[0;32m<ipython-input-2-b70709d60367>\u001b[0m in \u001b[0;36m<module>\u001b[0;34m()\u001b[0m\n\u001b[0;32m----> 1\u001b[0;31m \u001b[0mTweet\u001b[0m\u001b[0;34m=\u001b[0m \u001b[0mpandas\u001b[0m\u001b[0;34m.\u001b[0m\u001b[0mread_csv\u001b[0m\u001b[0;34m(\u001b[0m\u001b[0;34m\"emirates_tweets.csv\"\u001b[0m\u001b[0;34m)\u001b[0m\u001b[0;34m\u001b[0m\u001b[0m\n\u001b[0m\u001b[1;32m      2\u001b[0m \u001b[0mTweet\u001b[0m\u001b[0;34m.\u001b[0m\u001b[0mhead\u001b[0m\u001b[0;34m(\u001b[0m\u001b[0;34m)\u001b[0m\u001b[0;34m\u001b[0m\u001b[0m\n\u001b[1;32m      3\u001b[0m \u001b[0;34m(\u001b[0m\u001b[0mlen\u001b[0m\u001b[0;34m(\u001b[0m\u001b[0mTweet\u001b[0m\u001b[0;34m)\u001b[0m\u001b[0;34m-\u001b[0m\u001b[0mTweet\u001b[0m\u001b[0;34m.\u001b[0m\u001b[0mcount\u001b[0m\u001b[0;34m(\u001b[0m\u001b[0;34m)\u001b[0m\u001b[0;34m)\u001b[0m\u001b[0;34m/\u001b[0m\u001b[0mlen\u001b[0m\u001b[0;34m(\u001b[0m\u001b[0mTweet\u001b[0m\u001b[0;34m)\u001b[0m\u001b[0;34m\u001b[0m\u001b[0m\n\u001b[1;32m      4\u001b[0m \u001b[0;31m#dim(Tweet)\u001b[0m\u001b[0;34m\u001b[0m\u001b[0;34m\u001b[0m\u001b[0m\n\u001b[1;32m      5\u001b[0m \u001b[0;31m#str(Tweet)\u001b[0m\u001b[0;34m\u001b[0m\u001b[0;34m\u001b[0m\u001b[0m\n",
      "\u001b[0;32m/Library/Frameworks/Python.framework/Versions/2.7/lib/python2.7/site-packages/pandas/io/parsers.pyc\u001b[0m in \u001b[0;36mparser_f\u001b[0;34m(filepath_or_buffer, sep, delimiter, header, names, index_col, usecols, squeeze, prefix, mangle_dupe_cols, dtype, engine, converters, true_values, false_values, skipinitialspace, skiprows, nrows, na_values, keep_default_na, na_filter, verbose, skip_blank_lines, parse_dates, infer_datetime_format, keep_date_col, date_parser, dayfirst, iterator, chunksize, compression, thousands, decimal, lineterminator, quotechar, quoting, escapechar, comment, encoding, dialect, tupleize_cols, error_bad_lines, warn_bad_lines, skipfooter, skip_footer, doublequote, delim_whitespace, as_recarray, compact_ints, use_unsigned, low_memory, buffer_lines, memory_map, float_precision)\u001b[0m\n\u001b[1;32m    643\u001b[0m                     skip_blank_lines=skip_blank_lines)\n\u001b[1;32m    644\u001b[0m \u001b[0;34m\u001b[0m\u001b[0m\n\u001b[0;32m--> 645\u001b[0;31m         \u001b[0;32mreturn\u001b[0m \u001b[0m_read\u001b[0m\u001b[0;34m(\u001b[0m\u001b[0mfilepath_or_buffer\u001b[0m\u001b[0;34m,\u001b[0m \u001b[0mkwds\u001b[0m\u001b[0;34m)\u001b[0m\u001b[0;34m\u001b[0m\u001b[0m\n\u001b[0m\u001b[1;32m    646\u001b[0m \u001b[0;34m\u001b[0m\u001b[0m\n\u001b[1;32m    647\u001b[0m     \u001b[0mparser_f\u001b[0m\u001b[0;34m.\u001b[0m\u001b[0m__name__\u001b[0m \u001b[0;34m=\u001b[0m \u001b[0mname\u001b[0m\u001b[0;34m\u001b[0m\u001b[0m\n",
      "\u001b[0;32m/Library/Frameworks/Python.framework/Versions/2.7/lib/python2.7/site-packages/pandas/io/parsers.pyc\u001b[0m in \u001b[0;36m_read\u001b[0;34m(filepath_or_buffer, kwds)\u001b[0m\n\u001b[1;32m    398\u001b[0m         \u001b[0;32mreturn\u001b[0m \u001b[0mparser\u001b[0m\u001b[0;34m\u001b[0m\u001b[0m\n\u001b[1;32m    399\u001b[0m \u001b[0;34m\u001b[0m\u001b[0m\n\u001b[0;32m--> 400\u001b[0;31m     \u001b[0mdata\u001b[0m \u001b[0;34m=\u001b[0m \u001b[0mparser\u001b[0m\u001b[0;34m.\u001b[0m\u001b[0mread\u001b[0m\u001b[0;34m(\u001b[0m\u001b[0;34m)\u001b[0m\u001b[0;34m\u001b[0m\u001b[0m\n\u001b[0m\u001b[1;32m    401\u001b[0m     \u001b[0mparser\u001b[0m\u001b[0;34m.\u001b[0m\u001b[0mclose\u001b[0m\u001b[0;34m(\u001b[0m\u001b[0;34m)\u001b[0m\u001b[0;34m\u001b[0m\u001b[0m\n\u001b[1;32m    402\u001b[0m     \u001b[0;32mreturn\u001b[0m \u001b[0mdata\u001b[0m\u001b[0;34m\u001b[0m\u001b[0m\n",
      "\u001b[0;32m/Library/Frameworks/Python.framework/Versions/2.7/lib/python2.7/site-packages/pandas/io/parsers.pyc\u001b[0m in \u001b[0;36mread\u001b[0;34m(self, nrows)\u001b[0m\n\u001b[1;32m    936\u001b[0m                 \u001b[0;32mraise\u001b[0m \u001b[0mValueError\u001b[0m\u001b[0;34m(\u001b[0m\u001b[0;34m'skipfooter not supported for iteration'\u001b[0m\u001b[0;34m)\u001b[0m\u001b[0;34m\u001b[0m\u001b[0m\n\u001b[1;32m    937\u001b[0m \u001b[0;34m\u001b[0m\u001b[0m\n\u001b[0;32m--> 938\u001b[0;31m         \u001b[0mret\u001b[0m \u001b[0;34m=\u001b[0m \u001b[0mself\u001b[0m\u001b[0;34m.\u001b[0m\u001b[0m_engine\u001b[0m\u001b[0;34m.\u001b[0m\u001b[0mread\u001b[0m\u001b[0;34m(\u001b[0m\u001b[0mnrows\u001b[0m\u001b[0;34m)\u001b[0m\u001b[0;34m\u001b[0m\u001b[0m\n\u001b[0m\u001b[1;32m    939\u001b[0m \u001b[0;34m\u001b[0m\u001b[0m\n\u001b[1;32m    940\u001b[0m         \u001b[0;32mif\u001b[0m \u001b[0mself\u001b[0m\u001b[0;34m.\u001b[0m\u001b[0moptions\u001b[0m\u001b[0;34m.\u001b[0m\u001b[0mget\u001b[0m\u001b[0;34m(\u001b[0m\u001b[0;34m'as_recarray'\u001b[0m\u001b[0;34m)\u001b[0m\u001b[0;34m:\u001b[0m\u001b[0;34m\u001b[0m\u001b[0m\n",
      "\u001b[0;32m/Library/Frameworks/Python.framework/Versions/2.7/lib/python2.7/site-packages/pandas/io/parsers.pyc\u001b[0m in \u001b[0;36mread\u001b[0;34m(self, nrows)\u001b[0m\n\u001b[1;32m   1505\u001b[0m     \u001b[0;32mdef\u001b[0m \u001b[0mread\u001b[0m\u001b[0;34m(\u001b[0m\u001b[0mself\u001b[0m\u001b[0;34m,\u001b[0m \u001b[0mnrows\u001b[0m\u001b[0;34m=\u001b[0m\u001b[0mNone\u001b[0m\u001b[0;34m)\u001b[0m\u001b[0;34m:\u001b[0m\u001b[0;34m\u001b[0m\u001b[0m\n\u001b[1;32m   1506\u001b[0m         \u001b[0;32mtry\u001b[0m\u001b[0;34m:\u001b[0m\u001b[0;34m\u001b[0m\u001b[0m\n\u001b[0;32m-> 1507\u001b[0;31m             \u001b[0mdata\u001b[0m \u001b[0;34m=\u001b[0m \u001b[0mself\u001b[0m\u001b[0;34m.\u001b[0m\u001b[0m_reader\u001b[0m\u001b[0;34m.\u001b[0m\u001b[0mread\u001b[0m\u001b[0;34m(\u001b[0m\u001b[0mnrows\u001b[0m\u001b[0;34m)\u001b[0m\u001b[0;34m\u001b[0m\u001b[0m\n\u001b[0m\u001b[1;32m   1508\u001b[0m         \u001b[0;32mexcept\u001b[0m \u001b[0mStopIteration\u001b[0m\u001b[0;34m:\u001b[0m\u001b[0;34m\u001b[0m\u001b[0m\n\u001b[1;32m   1509\u001b[0m             \u001b[0;32mif\u001b[0m \u001b[0mself\u001b[0m\u001b[0;34m.\u001b[0m\u001b[0m_first_chunk\u001b[0m\u001b[0;34m:\u001b[0m\u001b[0;34m\u001b[0m\u001b[0m\n",
      "\u001b[0;32mpandas/parser.pyx\u001b[0m in \u001b[0;36mpandas.parser.TextReader.read (pandas/parser.c:10364)\u001b[0;34m()\u001b[0m\n",
      "\u001b[0;32mpandas/parser.pyx\u001b[0m in \u001b[0;36mpandas.parser.TextReader._read_low_memory (pandas/parser.c:10640)\u001b[0;34m()\u001b[0m\n",
      "\u001b[0;32mpandas/parser.pyx\u001b[0m in \u001b[0;36mpandas.parser.TextReader._read_rows (pandas/parser.c:11386)\u001b[0;34m()\u001b[0m\n",
      "\u001b[0;32mpandas/parser.pyx\u001b[0m in \u001b[0;36mpandas.parser.TextReader._tokenize_rows (pandas/parser.c:11257)\u001b[0;34m()\u001b[0m\n",
      "\u001b[0;32mpandas/parser.pyx\u001b[0m in \u001b[0;36mpandas.parser.raise_parser_error (pandas/parser.c:26979)\u001b[0;34m()\u001b[0m\n",
      "\u001b[0;31mCParserError\u001b[0m: Error tokenizing data. C error: Expected 2 fields in line 89, saw 4\n"
     ]
    }
   ],
   "source": [
    "data=read_csv(\"emirates_tweets.csv\")\n",
    "dim(data)\n",
    "str(data)"
   ]
  },
  {
   "cell_type": "code",
   "execution_count": null,
   "metadata": {
    "collapsed": true
   },
   "outputs": [],
   "source": [
    "prop.table(table(data$airline_sentiment))"
   ]
  },
  {
   "cell_type": "code",
   "execution_count": null,
   "metadata": {
    "collapsed": true
   },
   "outputs": [],
   "source": [
    "# generate a dataframe for plotting in ggplot2\n",
    "smallData = as.data.frame(prop.table(table(data$airline_sentiment)))\n",
    "colnames(smallData) = c('Sentiment', 'Frequency')\n",
    "smallData"
   ]
  },
  {
   "cell_type": "code",
   "execution_count": null,
   "metadata": {
    "collapsed": true
   },
   "outputs": [],
   "source": [
    "library(ggplot2)\n",
    "library(gridExtra)"
   ]
  },
  {
   "cell_type": "code",
   "execution_count": 4,
   "metadata": {
    "collapsed": false
   },
   "outputs": [
    {
     "ename": "SyntaxError",
     "evalue": "invalid syntax (<ipython-input-4-1ea02c89c929>, line 12)",
     "output_type": "error",
     "traceback": [
      "\u001b[0;36m  File \u001b[0;32m\"<ipython-input-4-1ea02c89c929>\"\u001b[0;36m, line \u001b[0;32m12\u001b[0m\n\u001b[0;31m    plot1 = gbar + geom_bar(stat = 'identity') + ggtitle(\"Overall Sentiment\") +\u001b[0m\n\u001b[0m                                                                                ^\u001b[0m\n\u001b[0;31mSyntaxError\u001b[0m\u001b[0;31m:\u001b[0m invalid syntax\n"
     ]
    }
   ],
   "source": [
    "# create blank theme for pie chart, otherwise it looks awful in my opinion\n",
    "blank_theme = theme_minimal() + theme(\n",
    "    axis.title.x = element_blank(),\n",
    "    axis.title.y = element_blank(),\n",
    "    panel.border = element_blank(),\n",
    "    axis.ticks = element_blank(),\n",
    "    plot.title = element_text(size = 14, face = 'bold') )\n",
    "\n",
    "gbar = ggplot(smallData, aes(x = Sentiment, y = Frequency, fill = Sentiment))\n",
    "gpie = ggplot(smallData, aes(x = \"\", y = Frequency, fill = Sentiment))\n",
    "\n",
    "plot1 = gbar + geom_bar(stat = 'identity') + ggtitle(\"Overall Sentiment\") + \n",
    "        theme(plot.title = element_text(size = 14, face = 'bold', vjust = 1),\n",
    "              axis.title.y = element_text(vjust = 2), axis.title.x = element_text(vjust = -1))\n",
    "\n",
    "plot2 = gpie + geom_bar(stat = 'identity') + coord_polar(\"y\", start = 0) + blank_theme +\n",
    "        theme(axis.title.x = element_blank()) + geom_text(aes(y = Frequency/3 + c(0, cumsum(Frequency)[-length(Frequency)]),\n",
    "        label = round(Frequency, 2)), size = 4) + ggtitle('Overall Sentiment')\n",
    "\n",
    "grid.arrange(plot1, plot2, ncol = 1, nrow = 2)"
   ]
  },
  {
   "cell_type": "code",
   "execution_count": null,
   "metadata": {
    "collapsed": true
   },
   "outputs": [],
   "source": [
    "\n",
    "## Proportion of tweets per airline\n",
    "\n",
    "prop.table(table(data$airline))"
   ]
  },
  {
   "cell_type": "code",
   "execution_count": null,
   "metadata": {
    "collapsed": true
   },
   "outputs": [],
   "source": [
    "# dataframe for plotting in ggplot\n",
    "smallData = as.data.frame(prop.table(table(data$airline)))\n",
    "colnames(smallData) = c('airline', 'Frequency')\n",
    "smallData"
   ]
  },
  {
   "cell_type": "code",
   "execution_count": null,
   "metadata": {
    "collapsed": true
   },
   "outputs": [],
   "source": [
    "gbar = ggplot(smallData, aes(x = airline, y = Frequency, fill = airline))\n",
    "gbar + geom_bar(stat = 'identity') + scale_fill_brewer() + ggtitle('Percentage of Tweets per Airline') +\n",
    "guides(fill = FALSE) + theme(plot.title = element_text(size = 14, face = 'bold', vjust = 1))\n"
   ]
  },
  {
   "cell_type": "code",
   "execution_count": null,
   "metadata": {
    "collapsed": true
   },
   "outputs": [],
   "source": [
    "## Proportion of negative sentiment tweets per airline\n",
    "\n",
    "prop.table(table(data$airline_sentiment, data$airline))"
   ]
  },
  {
   "cell_type": "code",
   "execution_count": null,
   "metadata": {
    "collapsed": true
   },
   "outputs": [],
   "source": [
    "# dataframe for ggplot\n",
    "smallData = as.data.frame(prop.table(table(data$airline_sentiment, data$airline)))\n",
    "colnames(smallData) = c('Sentiment', 'Airline', 'Percentage_Tweets')\n",
    "\n",
    "gbar = ggplot(smallData, aes(x = Airline, y = Percentage_Tweets, fill = Sentiment)) + ggtitle('Proportion of Tweets per Airline') +\n",
    "theme(plot.title = element_text(size = 14, face = 'bold', vjust = 1), axis.title.x = element_text(vjust = -1))\n",
    "\n",
    "plot1 = gbar + geom_bar(stat = 'identity')\n",
    "plot2 = gbar + geom_bar(stat = 'identity', position = 'fill')\n",
    "\n",
    "grid.arrange(plot1, plot2, ncol = 1, nrow = 2)"
   ]
  },
  {
   "cell_type": "code",
   "execution_count": null,
   "metadata": {
    "collapsed": true
   },
   "outputs": [],
   "source": [
    "# dataframe for ggplot\n",
    "smallData = as.data.frame(prop.table(table(data$negativereason)))\n",
    "colnames(smallData) = c('Reason', 'Frequency')\n",
    "smallData = smallData[-1, ] # remove first raw as it has no reason specified\n",
    "smallData\n"
   ]
  },
  {
   "cell_type": "code",
   "execution_count": null,
   "metadata": {
    "collapsed": true
   },
   "outputs": [],
   "source": [
    "g = ggplot(smallData, aes(x = Reason, y = Frequency)) + geom_bar(stat = 'identity', fill = 'pink')\n",
    "g = g + ggtitle('Reasons for Negative Sentiment')\n",
    "g = g + theme(plot.title = element_text(size = 14, face = 'bold', vjust = 1), axis.title.x = element_text(vjust = -0.1),\n",
    "              axis.text.x = element_text(angle = 30, size = 10, vjust = 1))\n",
    "g"
   ]
  },
  {
   "cell_type": "code",
   "execution_count": null,
   "metadata": {
    "collapsed": true
   },
   "outputs": [],
   "source": [
    "Emirates = subset(data, airline == 'Emirates')\n",
    "\n",
    "g1 = ggplot(as.data.frame(prop.table(table(American$negativereason))), aes(x = Var1, y = Freq)) +\n",
    "geom_bar(stat = 'identity', fill = 'lightblue')\n",
    "g1 = g1 + ggtitle('Emirates: Reasons for bad sentiment')\n",
    "g1 = g1 + theme(plot.title = element_text(size = 14, face = 'bold', vjust = 1), axis.title.x = element_blank(),\n",
    "                axis.text.x = element_text(angle = 30, size = 10, vjust = 1))\n",
    "\n",
    "grid.arrange(g1, ncol = 1, nrow = 2)"
   ]
  },
  {
   "cell_type": "code",
   "execution_count": null,
   "metadata": {
    "collapsed": true
   },
   "outputs": [],
   "source": [
    "# fill with NA cells in dataframe containing \"\", \" \" or the string NA\n",
    "data = as.data.frame(apply(data, 2, function(x) gsub(\"^$|^ $\", NA, x)))"
   ]
  },
  {
   "cell_type": "code",
   "execution_count": null,
   "metadata": {
    "collapsed": true
   },
   "outputs": [],
   "source": [
    "# check which columns contain NA and how many\n",
    "apply(data, 2, function(x) sum(is.na(x)))\n",
    "\n",
    "table(data$retweet_count)\n",
    "\n",
    "as.character(subset(data, retweet_count ==44)$text);\n",
    "print(\" \")\n",
    "as.character(subset(data, retweet_count ==32)$text);\n",
    "print(\" \")\n",
    "as.character(subset(data, retweet_count ==31)$text);\n",
    "print(\" \")\n",
    "as.character(subset(data, retweet_count ==28)$text)\n",
    "\n",
    "\n",
    "head(unique(data$tweet_location), 50)"
   ]
  },
  {
   "cell_type": "code",
   "execution_count": null,
   "metadata": {
    "collapsed": true
   },
   "outputs": [],
   "source": [
    "## Tweet timezone study\n",
    "\n",
    "timezone = as.data.frame(prop.table(table(data$user_timezone)))\n",
    "colnames(timezone) = c('timezone', 'Frequency')\n",
    "timezone = timezone[order(timezone$Frequency, decreasing = TRUE),]\n",
    "dim(timezone)\n",
    "head(timezone, 10)"
   ]
  },
  {
   "cell_type": "code",
   "execution_count": null,
   "metadata": {
    "collapsed": true
   },
   "outputs": [],
   "source": [
    "location = data$tweet_coord\n",
    "location = location[complete.cases(location)] # remove NAs\n",
    "location = as.data.frame(location)\n",
    "location$count =  1 # add a count column filled with 1s\n",
    "location$location = as.character(location$location)"
   ]
  },
  {
   "cell_type": "code",
   "execution_count": null,
   "metadata": {
    "collapsed": true
   },
   "outputs": [],
   "source": [
    "#remove duplicate locations and count the times they appeared, write the count in the count column\n",
    "\n",
    "location = aggregate(count~location, data = location, FUN = sum)\n",
    "location = location[-5,] # removes row containing coords [0,0] which are probably wrong\n",
    "coords = strsplit(location$location, ',') \n"
   ]
  },
  {
   "cell_type": "code",
   "execution_count": null,
   "metadata": {
    "collapsed": true
   },
   "outputs": [],
   "source": [
    "# separate lat and long from location\n",
    "\n",
    "lat = NULL\n",
    "long = NULL\n",
    "for (i in 1:length(coords)) {\n",
    "    lat = c(lat, substring(coords[[i]][1], 2)) # removes first character which is [\n",
    "    long = c(long, coords[[i]][2]) \n",
    "}\n",
    "\n",
    "location$lat = lat\n",
    "location$long = long"
   ]
  },
  {
   "cell_type": "code",
   "execution_count": null,
   "metadata": {
    "collapsed": true
   },
   "outputs": [],
   "source": [
    "# remove ]\n",
    "location$long = substr(location$long, 1, nchar(location$long)-1)\n",
    "\n",
    "location$lat = as.numeric(location$lat)\n",
    "location$long = as.numeric(location$long)\n",
    "   \n",
    "head(location)\n",
    "print('')\n",
    "dim(location)"
   ]
  },
  {
   "cell_type": "code",
   "execution_count": null,
   "metadata": {
    "collapsed": true
   },
   "outputs": [],
   "source": [
    "require(maps)\n",
    "world_map <- map_data(\"world\")\n",
    "g1 = ggplot()\n",
    "g1 = g1 + geom_polygon(data=world_map, aes(x=long, y=lat, group = group), colour=\"black\", fill = 'lightblue') + \n",
    "ggtitle(\"Location of tweets across the World\")\n",
    "g1 = g1 + geom_point(data=location, aes(x=long, y=lat, size = count), color=\"coral1\") + scale_size(name=\"Total Tweets\")\n",
    "g1 = g1 + ylim(-50, 80)\n",
    "\n",
    "states <- map_data(\"state\")\n",
    "g2 = ggplot()\n",
    "g2 =g2 + geom_polygon(data=states, aes(x=long, y=lat, group = group), colour=\"black\", fill = 'lightblue') + \n",
    "ggtitle(\"Location of tweets across the States\")\n",
    "g2 = g2 + geom_point(data=location, aes(x=long, y=lat, size = count), color=\"coral1\") + scale_size(name=\"Total Tweets\")\n",
    "g2 = g2 + xlim(-125, -65) + ylim(25, 50)\n",
    "#grid.arrange(g, ncol=1, nrow = 2)\n",
    "\n",
    "grid.arrange(g1, g2, ncol=1, nrow = 2)\n"
   ]
  }
 ],
 "metadata": {
  "kernelspec": {
   "display_name": "Python 2",
   "language": "python",
   "name": "python2"
  },
  "language_info": {
   "codemirror_mode": {
    "name": "ipython",
    "version": 2
   },
   "file_extension": ".py",
   "mimetype": "text/x-python",
   "name": "python",
   "nbconvert_exporter": "python",
   "pygments_lexer": "ipython2",
   "version": "2.7.12"
  }
 },
 "nbformat": 4,
 "nbformat_minor": 2
}
